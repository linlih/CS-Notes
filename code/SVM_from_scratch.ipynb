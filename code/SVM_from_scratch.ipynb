{
  "nbformat": 4,
  "nbformat_minor": 0,
  "metadata": {
    "colab": {
      "name": "SVM from scratch.ipynb",
      "provenance": [],
      "collapsed_sections": [],
      "authorship_tag": "ABX9TyN4xPdxsZtN+WB+ti+jnMiL",
      "include_colab_link": true
    },
    "kernelspec": {
      "name": "python3",
      "display_name": "Python 3"
    },
    "accelerator": "GPU"
  },
  "cells": [
    {
      "cell_type": "markdown",
      "metadata": {
        "id": "view-in-github",
        "colab_type": "text"
      },
      "source": [
        "<a href=\"https://colab.research.google.com/github/linlih/CS-Notes/blob/master/code/SVM_from_scratch.ipynb\" target=\"_parent\"><img src=\"https://colab.research.google.com/assets/colab-badge.svg\" alt=\"Open In Colab\"/></a>"
      ]
    },
    {
      "cell_type": "markdown",
      "metadata": {
        "id": "KYOsWnmErvk0",
        "colab_type": "text"
      },
      "source": [
        "## SVM From scratch\n",
        "\n",
        "参考自："
      ]
    },
    {
      "cell_type": "code",
      "metadata": {
        "id": "tRpFUKwFqCSW",
        "colab_type": "code",
        "colab": {}
      },
      "source": [
        "import matplotlib.pyplot as plt\n",
        "from matplotlib import style\n",
        "import numpy as np\n",
        "style.use('ggplot')"
      ],
      "execution_count": 0,
      "outputs": []
    },
    {
      "cell_type": "code",
      "metadata": {
        "id": "aXENDDCZzW3V",
        "colab_type": "code",
        "colab": {}
      },
      "source": [
        "class Support_Vector_Machine:\n",
        "  def __init__(self, visualization=True):\n",
        "    self.visualization = visualization\n",
        "    self.colors = {1:'r', -1:'b'}\n",
        "    if self.visualization:\n",
        "      self.fig = plt.figure()\n",
        "      self.ax = self.fig.add_subplot(1,1,1)\n",
        "  # train\n",
        "  def fit(self, data):\n",
        "    self.data = data\n",
        "    # { ||w||: [w, b]}\n",
        "    opt_dict = {}\n",
        "    \n",
        "    transforms = [[1, 1],\n",
        "            [-1, 1],\n",
        "            [-1, -1],\n",
        "            [1, -1]]\n",
        "    \n",
        "    all_data = []\n",
        "    for yi in self.data:\n",
        "      for featureset in self.data[yi]:\n",
        "        for feature in featureset:\n",
        "          all_data.append(feature)\n",
        "    self.max_feature_value = max(all_data)\n",
        "    self.min_feature_value = min(all_data)\n",
        "    all_data = None\n",
        "\n",
        "    # support vectors yi(xi.w+b) = 1\n",
        "\n",
        "    step_sizes = [self.max_feature_value * 0.1,\n",
        "            self.max_feature_value * 0.01,\n",
        "            # point of expense\n",
        "            self.max_feature_value * 0.001,]\n",
        "    \n",
        "    # extremely expesnsive\n",
        "    b_range_multiple = 5\n",
        "    # we dont need to take as mall of steps with b as we do w\n",
        "    b_mutiple = 5\n",
        "\n",
        "    latest_optimum = self.max_feature_value * 10\n",
        "\n",
        "    for step in step_sizes:\n",
        "      w = np.array([latest_optimum, latest_optimum])\n",
        "      \n",
        "      # we can do this because convex\n",
        "      optimized = False\n",
        "      while not optimized:\n",
        "        for b in np.arange(-1*(self.max_feature_value * b_range_multiple),\n",
        "                   self.max_feature_value * b_range_multiple, \n",
        "                   step*b_mutiple):\n",
        "          for transformation in transforms:\n",
        "            w_t = w * transformation\n",
        "            found_option = True\n",
        "            # weakest link in SVM fundamentally\n",
        "            # SMO attempts to fix this a bit\n",
        "            # yi(xi.w+b) >= 1\n",
        "            for i in self.data:\n",
        "              for xi in self.data[i]:\n",
        "                yi=i\n",
        "                if not yi*(np.dot(w_t, xi) + b) >= 1:\n",
        "                  found_option = False\n",
        "\n",
        "            if found_option:\n",
        "              opt_dict[np.linalg.norm(w_t)] = [w_t, b]\n",
        "        if w[0] < 0:\n",
        "          optimized = True\n",
        "          print('Optimized a step.')\n",
        "        else:\n",
        "          # w = [5, 5]\n",
        "          # step = 1\n",
        "          # w - step = [4, 4]\n",
        "          w = w - step\n",
        "      \n",
        "      norms = sorted([n for n in opt_dict])\n",
        "      # ||w||: [w, b]\n",
        "      opt_choice = opt_dict[norms[0]]\n",
        "      self.w = opt_choice[0]\n",
        "      self.b = opt_choice[1]\n",
        "      latest_optimum = opt_choice[0][0]+step*2\n",
        "\n",
        "\n",
        "  \n",
        "  def predict(self, features):\n",
        "    # sign( x.w+b )\n",
        "    calssification = np.sign(np.dot(np.array(features), self.w)+self.b)\n",
        "    if classification != 0 and self.visualization:\n",
        "      self.ax.scatter(features[0], features[1], s=200, marker='x', c=self.colors[classification])\n",
        "    return classification\n",
        "  \n",
        "  def visualize(self):\n",
        "    [[self.ax.scatter(x[0], x[1], s=100, color=self.colors[i]) for x in data_dict[i]] for i in data_dict]\n",
        "    # hyperplane = x.w+b\n",
        "    # v = x.w+b\n",
        "    # psv = 1 positive support vector\n",
        "    # nsv = 1\n",
        "    # dec = 0\n",
        "    def hyperplane(x, w, b, v):\n",
        "      return (-w[0]*x-b+v) / w[1]\n",
        "    datarange = (self.min_feature_value*0.9, self.max_feature_value*1.1)\n",
        "    hyp_x_min = datarange[0]\n",
        "    hyp_x_max = datarange[1]\n",
        "\n",
        "    # (w*x+b) = 1\n",
        "    # positive support vector hyperplane\n",
        "    psv1 = hyperplane(hyp_x_min, self.w, self.b, 1)\n",
        "    psv2 = hyperplane(hyp_x_max, self.w, self.b, 1)\n",
        "    self.ax.plot([hyp_x_min, hyp_x_max], [psv1, psv2])\n",
        "\n",
        "    npsv1 = hyperplane(hyp_x_min, self.w, self.b, -1)\n",
        "    npsv2 = hyperplane(hyp_x_max, self.w, self.b, -1)\n",
        "    self.ax.plot([hyp_x_min, hyp_x_max], [npsv1, npsv2])\n",
        "\n",
        "    db1 = hyperplane(hyp_x_min, self.w, self.b, -1)\n",
        "    db2 = hyperplane(hyp_x_max, self.w, self.b, -1)\n",
        "    self.ax.plot([hyp_x_min, hyp_x_max], [db1, db2])\n",
        "  \n",
        "    plt.show()\n",
        "\n"
      ],
      "execution_count": 0,
      "outputs": []
    },
    {
      "cell_type": "code",
      "metadata": {
        "id": "Ar5UPaCvy97g",
        "colab_type": "code",
        "colab": {}
      },
      "source": [
        "data_dict = {-1:np.array([[1, 7],\n",
        "              [2, 8],\n",
        "              [3, 8]]),\n",
        "        1:np.array([[5, 1],\n",
        "             [6, -1],\n",
        "             [7, 3],])}"
      ],
      "execution_count": 0,
      "outputs": []
    },
    {
      "cell_type": "code",
      "metadata": {
        "id": "VPb3Or12zV3k",
        "colab_type": "code",
        "colab": {
          "base_uri": "https://localhost:8080/",
          "height": 315
        },
        "outputId": "597e241f-6876-437b-9ab6-32914f0672b0"
      },
      "source": [
        "svm = Support_Vector_Machine()\n",
        "svm.fit(data=data_dict)\n",
        "svm.visualize()"
      ],
      "execution_count": 19,
      "outputs": [
        {
          "output_type": "stream",
          "text": [
            "Optimized a step.\n",
            "Optimized a step.\n",
            "Optimized a step.\n"
          ],
          "name": "stdout"
        },
        {
          "output_type": "display_data",
          "data": {
            "image/png": "[encoded data removed]",
            "text/plain": [
              "<Figure size 432x288 with 1 Axes>"
            ]
          },
          "metadata": {
            "tags": []
          }
        }
      ]
    },
    {
      "cell_type": "code",
      "metadata": {
        "id": "rYIkgQFn23ZE",
        "colab_type": "code",
        "colab": {}
      },
      "source": [
        ""
      ],
      "execution_count": 0,
      "outputs": []
    }
  ]
}